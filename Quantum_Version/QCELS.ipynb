{
 "cells": [
  {
   "cell_type": "code",
   "execution_count": 100,
   "metadata": {},
   "outputs": [],
   "source": [
    "from matplotlib import pyplot as plt\n",
    "from Ham_generator import *\n",
    "from qcels import *\n",
    "import qiskit\n",
    "import pickle\n",
    "import scipy\n",
    "from qiskit_nature.second_q.drivers import PySCFDriver\n",
    "from qiskit_nature.second_q.mappers import ParityMapper\n",
    "from qiskit_nature.units import DistanceUnit\n",
    "from qiskit_ibm_runtime import QiskitRuntimeService as QRS\n",
    "from qiskit_ibm_runtime import SamplerV2 as Sampler\n",
    "from qiskit_aer.noise import NoiseModel, depolarizing_error, QuantumError, coherent_unitary_error, ReadoutError, thermal_relaxation_error\n",
    "import matplotlib\n",
    "import scipy.fft as fft\n",
    "matplotlib.rcParams['font.size'] = 15\n",
    "matplotlib.rcParams['lines.markersize'] = 10 \n",
    "np.set_printoptions(threshold=np.inf)"
   ]
  },
  {
   "cell_type": "code",
   "execution_count": 101,
   "metadata": {},
   "outputs": [],
   "source": [
    "num_sites = 2\n",
    "\n",
    "#TFIM parameters\n",
    "J_T = 1\n",
    "g_T = 4\n",
    "\n",
    "#HSM parameters\n",
    "J_H = 4\n",
    "g_H = 0\n",
    "\n",
    "#Hubb parameters\n",
    "t_H = 1\n",
    "U_H = 10\n",
    "\n",
    "#H2 molecule parameters\n",
    "distance = 1.2"
   ]
  },
  {
   "cell_type": "code",
   "execution_count": 102,
   "metadata": {},
   "outputs": [
    {
     "name": "stdout",
     "output_type": "stream",
     "text": [
      "Hubbard Model\n",
      "[[ 0.+0.j  0.+0.j  0.+0.j  0.+0.j]\n",
      " [ 0.+0.j  0.+0.j -1.+0.j  0.+0.j]\n",
      " [ 0.+0.j -1.+0.j  0.+0.j  0.+0.j]\n",
      " [ 0.+0.j  0.+0.j  0.+0.j 10.+0.j]]\n"
     ]
    },
    {
     "data": {
      "image/png": "[encoded data removed]",
      "text/plain": [
       "<Figure size 640x480 with 1 Axes>"
      ]
     },
     "metadata": {},
     "output_type": "display_data"
    },
    {
     "name": "stdout",
     "output_type": "stream",
     "text": [
      "Ground state energy:  -0.23561944901923448\n"
     ]
    }
   ],
   "source": [
    "# T (TFIM), H (HSM), B (Hubbard), M (H2 molecule)\n",
    "model_type = 'B'\n",
    "# Q (Qiskit), F(F3C++)\n",
    "Ham_type = 'Q'\n",
    "\n",
    "if model_type[0].upper() == 'T':\n",
    "    mn = 'TFIM'\n",
    "    print('Transverse Field Ising Model')\n",
    "\n",
    "    if Ham_type[0].upper() == 'F':\n",
    "        unitaries, ham = (generate_TFIM_gates(num_sites, 2, 1, g_T, ham_shift, '../../../f3cpp', trotter = 10))\n",
    "        eigenenergies, eigenenstates = eigh(ham)\n",
    "        ground_state = eigenenstates[:,0]\n",
    "        \n",
    "    if Ham_type[0].upper() == 'Q':\n",
    "        ham = create_hamiltonian(num_sites, 'TFIM', ham_shift, g = g_T, J=J_T, show_steps=False)\n",
    "        print(ham)\n",
    "        eigenenergies, eigenstates = eigh(ham)\n",
    "        ground_state = eigenstates[:,0]\n",
    "\n",
    "        pop = np.abs(np.dot(eigenstates.conj().T, ground_state))**2\n",
    "\n",
    "        plt.plot(eigenenergies, pop, 'b-o')\n",
    "        plt.show()\n",
    "    \n",
    "if model_type[0].upper() == 'H':\n",
    "    mn = 'HSM'\n",
    "    print('Heisenberg Spin Model')\n",
    "\n",
    "    ham = create_hamiltonian(num_sites, 'SPIN', ham_shift, g = g_H, J=J_H, show_steps=False)\n",
    "    eigenenergies, eigenstates = eigh(ham)\n",
    "    ground_state = eigenstates[:,0]\n",
    "\n",
    "    pop = np.abs(np.dot(eigenstates.conj().T, ground_state))**2\n",
    "\n",
    "    plt.plot(eigenenergies, pop, 'b-o')\n",
    "    plt.show()\n",
    "\n",
    "if model_type[0].upper() == 'B':\n",
    "    mn = \"HUBB\"\n",
    "    print('Hubbard Model')\n",
    "    ham = create_hamiltonian(num_sites, 'HUBB', ham_shift, t = t_H, U=U_H, x = num_sites, y = 1, show_steps=False)\n",
    "    eigenenergies, eigenstates = eigh(ham)\n",
    "    ground_state = eigenstates[:,0]\n",
    "\n",
    "    popp = np.abs(np.dot(eigenstates.conj().T, ground_state))**2\n",
    "\n",
    "    plt.plot(eigenenergies, popp, 'b-o')\n",
    "    plt.show()\n",
    "\n",
    "if model_type[0].upper() == 'M':\n",
    "    mn = 'HH'\n",
    "    num_sites = 1\n",
    "    ang = 0.52917721092\n",
    "    print('H2 Molecule')\n",
    "\n",
    "    ham = create_hamiltonian(num_sites, 'H2', ham_shift, show_steps=False)\n",
    "    eigenenergies, eigenstates = eigh(ham)\n",
    "    ground_state = eigenstates[:,0]\n",
    "\n",
    "    popp = np.abs(np.dot(eigenstates.conj().T, ground_state))**2\n",
    "\n",
    "    plt.plot(eigenenergies, popp, 'b-o')\n",
    "    plt.show()\n",
    "\n",
    "print('Ground state energy: ', eigenenergies[0])"
   ]
  },
  {
   "cell_type": "code",
   "execution_count": 103,
   "metadata": {},
   "outputs": [
    {
     "name": "stdout",
     "output_type": "stream",
     "text": [
      "Chosen epsilons [1.         0.31622777 0.1        0.03162278 0.01      ]\n",
      "Iterations [1, 3, 5, 6, 8]\n",
      "Real epsilons [1, 0.25, 0.0625, 0.03125, 0.0078125]\n"
     ]
    }
   ],
   "source": [
    "# initialization: S (Quantum Simulation), or R (Quantum Hardware)\n",
    "\n",
    "computation_type = 'S'\n",
    "output_file = True\n",
    "p0_array            = np.array([0.8]) # initial overlap with the first eigenvector\n",
    "deltas              = np.sqrt(1-p0_array)\n",
    "trials              = 5 # number of comparisions each test (circuit depths)\n",
    "tests               = 1\n",
    "err_threshold       = 0.01\n",
    "T0                  = 100\n",
    "\n",
    "# QCELS variables\n",
    "time_steps          = 5\n",
    "epsilons            = np.logspace(0,-2, trials)\n",
    "print('Chosen epsilons', epsilons)\n",
    "iterations          = [int(np.ceil(np.log2(1/i)) + 1) for i in epsilons]\n",
    "epsilons            = [2**(1 - i) for i in iterations]\n",
    "\n",
    "print('Iterations', iterations)\n",
    "print('Real epsilons', epsilons)"
   ]
  },
  {
   "cell_type": "code",
   "execution_count": 104,
   "metadata": {},
   "outputs": [
    {
     "name": "stdout",
     "output_type": "stream",
     "text": [
      "\n",
      "QUANTUM SIMULATION SELECTED\n",
      "\n"
     ]
    }
   ],
   "source": [
    "# initialization: S (Quantum Simulation), or R (Quantum Hardware)\n",
    "\n",
    "if computation_type[0].upper() == 'S':\n",
    "    print(\"\\nQUANTUM SIMULATION SELECTED\\n\")\n",
    "\n",
    "    noise_model = NoiseModel()\n",
    "    backend = AerSimulator(noise_model=noise_model)\n",
    "    data_name = \"Q_Sim\"\n",
    "\n",
    "if computation_type[0].upper() == 'R':\n",
    "    print(\"\\nQUANTUM HARDWARE SELECTED\\n\")    \n",
    "    \n",
    "    # save qiskit API token for later use\n",
    "    api_token = input(\"Enter API Token:\")\n",
    "    service = QRS(channel = 'ibm_quantum', instance='rpi-rensselaer/research/faulsf', token = api_token)\n",
    "    backend = service.backend('ibm_rensselaer')\n",
    "    data_name = \"Q_Real\"\n",
    "\n",
    "if output_file:\n",
    "    outfile = open(\"Output/\"+str(data_name)+\"_\"+str(mn)+\"_trans.txt\", 'w')"
   ]
  },
  {
   "cell_type": "code",
   "execution_count": 105,
   "metadata": {},
   "outputs": [
    {
     "name": "stdout",
     "output_type": "stream",
     "text": [
      "0.7999999999999997\n"
     ]
    },
    {
     "data": {
      "image/png": "[encoded data removed]",
      "text/plain": [
       "<Figure size 640x480 with 1 Axes>"
      ]
     },
     "metadata": {},
     "output_type": "display_data"
    }
   ],
   "source": [
    "ansatz = []\n",
    "for p in range(len(p0_array)):\n",
    "    psi = ground_state\n",
    "\n",
    "    # Generate a random vector orthogonal to psi\n",
    "    random_vec = np.random.randn(2**num_sites) + 1j * np.random.randn(2**num_sites)\n",
    "    random_vec -= np.vdot(psi, random_vec) * psi  # Make orthogonal to psi\n",
    "    random_vec /= np.linalg.norm(random_vec)  # Normalize\n",
    "\n",
    "    # Construct psi with the required squared overlap\n",
    "    overlap_squared = p0_array[p]\n",
    "    phi = np.sqrt(overlap_squared) * psi + np.sqrt(1 - overlap_squared) * random_vec\n",
    "\n",
    "    print(np.abs(np.vdot(psi, phi))**2)\n",
    "    ansatz.append(phi)\n",
    "\n",
    "    pop = np.abs(np.dot(eigenstates.conj().T, ansatz[p]))**2\n",
    "\n",
    "    plt.plot(eigenenergies, pop, 'b-o')\n",
    "    plt.show()"
   ]
  },
  {
   "cell_type": "code",
   "execution_count": 106,
   "metadata": {},
   "outputs": [
    {
     "name": "stdout",
     "output_type": "stream",
     "text": [
      "Qiskit\n"
     ]
    }
   ],
   "source": [
    "# Create and run HT for lambda_prior\n",
    "\n",
    "circs = []\n",
    "if Ham_type[0].upper() == 'F':\n",
    "    print('F3C++')\n",
    "    for p in range(len(p0_array)):\n",
    "        trans_qc1 = create_HT_circuit(num_sites, unitaries[-1], W = 'Re', backend = backend, init_state = ansatz[p])\n",
    "        trans_qc2 = create_HT_circuit(num_sites, unitaries[-1], W = 'Im', backend = backend, init_state = ansatz[p])\n",
    "        \n",
    "\n",
    "        circs.append(trans_qc1)\n",
    "        circs.append(trans_qc2)\n",
    "\n",
    "    sampler = Sampler(backend)\n",
    "    job = sampler.run(circs, shots = 10000)\n",
    "    lambda_results = job.result()\n",
    "\n",
    "if Ham_type[0].upper() == 'Q':\n",
    "    print('Qiskit')\n",
    "    for p in range(len(p0_array)):\n",
    "        mat = expm(-1j*ham)\n",
    "        controlled_U = UnitaryGate(mat).control(annotated=\"yes\")\n",
    "\n",
    "        trans_qc1 = create_HT_circuit(num_sites, controlled_U, W = 'Re', backend = backend, init_state = ansatz[p])\n",
    "        trans_qc2 = create_HT_circuit(num_sites, controlled_U, W = 'Im', backend = backend, init_state = ansatz[p])\n",
    "\n",
    "        circs.append(trans_qc1)\n",
    "        circs.append(trans_qc2)\n",
    "\n",
    "    sampler = Sampler(backend)\n",
    "    job = sampler.run(circs, shots = 10000)\n",
    "    lambda_results = job.result()\n",
    "\n",
    "lambda_results_psort = [lambda_results[i:i+2] for i in range(0, len(lambda_results), 2)]"
   ]
  },
  {
   "cell_type": "code",
   "execution_count": 107,
   "metadata": {},
   "outputs": [
    {
     "name": "stdout",
     "output_type": "stream",
     "text": [
      "lambda_priors:  [-0.6674542489314016] \n",
      " target:  -0.23561944901923448\n"
     ]
    }
   ],
   "source": [
    "# Get lambda_prior\n",
    "lambda_priors = []\n",
    "\n",
    "for p in range(len(p0_array)):\n",
    "\n",
    "    re_data = lambda_results_psort[p][0].data\n",
    "    im_data = lambda_results_psort[p][1].data\n",
    "\n",
    "\n",
    "    counts_re = re_data[list(re_data.keys())[0]].get_counts()\n",
    "    counts_im = im_data[list(im_data.keys())[0]].get_counts()\n",
    "\n",
    "    re_p0 = im_p0 = 0\n",
    "    if counts_re.get('0') is not None:\n",
    "        re_p0 = counts_re['0']/10000\n",
    "    if counts_im.get('0') is not None:\n",
    "        im_p0 = counts_im['0']/10000\n",
    "\n",
    "    Re = 2*re_p0 - 1\n",
    "    Im = 2*im_p0 - 1\n",
    "\n",
    "    Angle = np.arccos(Re)\n",
    "    if  np.arcsin(Im)<0:\n",
    "        Phase = 2*np.pi - Angle\n",
    "    else:\n",
    "        Phase = Angle\n",
    "\n",
    "    lambda_prior = -Phase\n",
    "    lambda_priors.append(lambda_prior)\n",
    "\n",
    "print('lambda_priors: ', lambda_priors, '\\n target: ', eigenenergies[0])"
   ]
  },
  {
   "cell_type": "code",
   "execution_count": 108,
   "metadata": {},
   "outputs": [
    {
     "name": "stdout",
     "output_type": "stream",
     "text": [
      "Testing p0 = 0.8 (1/1)\n",
      "  Generating QCELS circuits (p0=0.8)\n",
      "    Transpiling QCELS (1/5)\n",
      "0.04472135954999579\n",
      "0.08944271909999157\n",
      "    Transpiling QCELS (2/5)\n",
      "0.04472135954999579\n",
      "0.08944271909999157\n",
      "0.17888543819998315\n",
      "0.3577708763999663\n",
      "    Transpiling QCELS (3/5)\n",
      "0.04472135954999579\n",
      "0.08944271909999157\n",
      "0.17888543819998315\n",
      "0.3577708763999663\n",
      "0.7155417527999326\n",
      "1.4310835055998652\n",
      "    Transpiling QCELS (4/5)\n",
      "0.04472135954999579\n",
      "0.08944271909999157\n",
      "0.17888543819998315\n",
      "0.3577708763999663\n",
      "0.7155417527999326\n",
      "1.4310835055998652\n",
      "2.8621670111997304\n",
      "    Transpiling QCELS (5/5)\n",
      "0.04472135954999579\n",
      "0.08944271909999157\n",
      "0.17888543819998315\n",
      "0.3577708763999663\n",
      "0.7155417527999326\n",
      "1.4310835055998652\n",
      "2.8621670111997304\n",
      "5.724334022399461\n",
      "11.448668044798922\n",
      "Finished transpiling for QCELS  (p0=0.8)\n"
     ]
    }
   ],
   "source": [
    "# Transpiles circuits\n",
    "times = []\n",
    "for p in range(len(p0_array)):\n",
    "    p0=p0_array[p]\n",
    "    delta = deltas[p]\n",
    "\n",
    "    print(\"Testing p0 =\", p0,\"(\"+str(p+1)+\"/\"+str(len(p0_array))+\")\")\n",
    "\n",
    "    if output_file: print(\"Testing p0 =\", p0,\"(\"+str(p+1)+\"/\"+str(len(p0_array))+\")\", file = outfile)\n",
    "\n",
    "    print(\"  Generating QCELS circuits\", \"(p0=\"+str(p0)+\")\")\n",
    "\n",
    "    #------------------QCELS-----------------\n",
    "    for trial in range(trials):\n",
    "        print(\"    Transpiling QCELS\", \"(\"+str(trial+1)+\"/\"+str(trials)+\")\")\n",
    "        \n",
    "        if output_file: print(\"    Transpiling QCELS\", \"(\"+str(trial+1)+\"/\"+str(trials)+\")\", file = outfile, flush = True)\n",
    "\n",
    "        epsilon = epsilons[trial]\n",
    "        for j in range(iterations[trial] + 1):\n",
    "            tau = get_tau(j, time_steps, epsilon, delta)\n",
    "            print(tau)\n",
    "            qcs_QCELS = []\n",
    "            if Ham_type[0].upper() == 'F':\n",
    "                unitaries, _ = (generate_TFIM_gates(num_sites, time_steps, tau, g_T, ham_shift, '../../../f3cpp', trotter = 10))\n",
    "            for data_pair in range(time_steps):\n",
    "                if Ham_type[0].upper() == 'Q':\n",
    "                    t = tau*data_pair\n",
    "                    times.append(t)\n",
    "                    mat = expm(-1j*ham*t)\n",
    "                    try:\n",
    "                        controlled_U = UnitaryGate(mat).control(annotated=\"yes\")\n",
    "                        qcs_QCELS.append(create_HT_circuit(num_sites, controlled_U, W = 'Re', backend = backend, init_state = ansatz[p]))\n",
    "                        qcs_QCELS.append(create_HT_circuit(num_sites, controlled_U, W = 'Im', backend = backend, init_state = ansatz[p]))\n",
    "                    except Exception as e: # make closest unitary if qiskit fails\n",
    "                        print(f'      {e.__class__.__name__}: Rounding error in diagonalization is too significant for constructing the controlled unitary. Using closest unitary instead.')\n",
    "                        controlled_U = UnitaryGate(closest_unitary(mat)).control(annotated=\"yes\")\n",
    "                        qcs_QCELS.append(create_HT_circuit(num_sites, controlled_U, W = 'Re', backend = backend, init_state = ansatz[p]))\n",
    "                        qcs_QCELS.append(create_HT_circuit(num_sites, controlled_U, W = 'Im', backend = backend, init_state = ansatz[p]))\n",
    "                if Ham_type[0].upper() == 'F':\n",
    "                    qcs_QCELS.append(create_HT_circuit(num_sites, unitaries[data_pair], W = 'Re', backend = backend, init_state = ansatz[p]))\n",
    "                    qcs_QCELS.append(create_HT_circuit(num_sites, unitaries[data_pair], W = 'Im', backend = backend, init_state = ansatz[p]))\n",
    "                \n",
    "            with open('Transpiled_Circuits/QCELS_p0='+str(p0)+'_Trial'+str(trial)+'_Iter='+str(j)+'.qpy', 'wb') as f:\n",
    "                qiskit.qpy.dump(qcs_QCELS, f)\n",
    "    print('Finished transpiling for QCELS ', \"(p0=\"+str(p0)+\")\")"
   ]
  },
  {
   "cell_type": "code",
   "execution_count": null,
   "metadata": {},
   "outputs": [
    {
     "name": "stdout",
     "output_type": "stream",
     "text": [
      "-1.0\n",
      "0.35687993963579756\n"
     ]
    }
   ],
   "source": [
    "from numpy import random\n",
    "thing = .34456\n",
    "order = np.floor(np.log10(thing))\n",
    "thing = float(f'{thing:0.1}') + random.rand()*(10**(order))\n",
    "print(thing)"
   ]
  },
  {
   "cell_type": "code",
   "execution_count": null,
   "metadata": {},
   "outputs": [
    {
     "name": "stdout",
     "output_type": "stream",
     "text": [
      "Loading p0 = 0.8 (1/1)\n",
      "  Test 1/1\n",
      "    Loading QCELS data (1/5)\n",
      "    Loading QCELS data (2/5)\n",
      "    Loading QCELS data (3/5)\n",
      "    Loading QCELS data (4/5)\n",
      "    Loading QCELS data (5/5)\n"
     ]
    }
   ],
   "source": [
    "# Loads transpiled circuits\n",
    "qcs_QCELS = []\n",
    "\n",
    "for p in range(len(p0_array)):\n",
    "    p0 = p0_array[p]\n",
    "    print(\"Loading p0 =\", p0,\"(\"+str(p+1)+\"/\"+str(len(p0_array))+\")\")\n",
    "    for test in range(tests):\n",
    "        print(\"  Test\", str(test + 1) + '/' + str(tests))\n",
    "        for trial in range(trials):\n",
    "            print('    Loading QCELS data ('+str(trial+1)+'/'+str(trials)+')')\n",
    "            for i in range(iterations[trial] + 1):\n",
    "                with open('Transpiled_Circuits/QCELS_p0='+str(p0)+'_Trial'+str(trial)+'_Iter='+str(i)+'.qpy', 'rb') as f:\n",
    "                    circs = qiskit.qpy.load(f)\n",
    "                    qcs_QCELS.append(circs)\n",
    "\n",
    "qcs_QCELS = sum(qcs_QCELS, []) # flatten list\n"
   ]
  },
  {
   "cell_type": "code",
   "execution_count": 110,
   "metadata": {},
   "outputs": [],
   "source": [
    "num_splits = 1\n",
    "split = int(len(qcs_QCELS)/num_splits)\n",
    "\n",
    "qcs_QCELS_circuits = []\n",
    "for i in range(num_splits):\n",
    "    qcs_QCELS_circuits.append(qcs_QCELS[i*split:(i+1)*split])"
   ]
  },
  {
   "cell_type": "code",
   "execution_count": 111,
   "metadata": {},
   "outputs": [
    {
     "name": "stdout",
     "output_type": "stream",
     "text": [
      "Running transpiled circuits.\n"
     ]
    },
    {
     "name": "stdout",
     "output_type": "stream",
     "text": [
      "Finished running circuits.\n"
     ]
    }
   ],
   "source": [
    "# Runs loaded circuits\n",
    "print('Running transpiled circuits.')\n",
    "sampler = Sampler(backend)\n",
    "jobs = []\n",
    "results = []\n",
    "for i in range(num_splits):\n",
    "    job = sampler.run(qcs_QCELS_circuits[i], shots = T0)\n",
    "    result = job.result()\n",
    "    jobs.append(job)\n",
    "    results.append(result)\n",
    "\n",
    "print('Finished running circuits.')\n",
    "results = flatten(results)\n",
    "\n",
    "# results = list(get_q_job('d13pas3n2txg008jt110', service))"
   ]
  },
  {
   "cell_type": "code",
   "execution_count": 112,
   "metadata": {},
   "outputs": [],
   "source": [
    "Z_ests = []\n",
    "for p in range(len(p0_array)):\n",
    "    Z_ests.append([])\n",
    "    for test in range(tests):\n",
    "        Z_ests[p].append([])\n",
    "        for trial in range(trials):\n",
    "            Z_ests[p][test].append([])\n",
    "            for iter in range(iterations[trial] + 1):\n",
    "                Z_ests[p][test][trial].append([])\n",
    "                for time_step in range(time_steps):\n",
    "                    index = time_step*2 + iter*time_steps*2 + (sum(iterations[0:trial])+trial)*time_steps*2 + test*(sum(iterations)+len(iterations))*time_steps*2 + p*tests*(sum(iterations)+len(iterations))*time_steps*2\n",
    "                    raw_data_re = results[index].data\n",
    "                    counts_re = raw_data_re[list(raw_data_re.keys())[0]].get_counts()\n",
    "                    raw_data_im = results[index + 1].data\n",
    "                    counts_im = raw_data_im[list(raw_data_im.keys())[0]].get_counts()\n",
    "\n",
    "                    re_p0 = im_p0 = 0\n",
    "                    if counts_re.get('0') is not None:\n",
    "                        re_p0 = counts_re['0']/T0\n",
    "                    if counts_im.get('0') is not None:\n",
    "                        im_p0 = counts_im['0']/T0\n",
    "                    \n",
    "                    Re = 2*re_p0-1\n",
    "                    Im = 2*im_p0-1 \n",
    "\n",
    "                    Z_est = complex(Re,Im)\n",
    "                    Z_ests[p][test][trial][iter].append(Z_est)"
   ]
  },
  {
   "cell_type": "code",
   "execution_count": 113,
   "metadata": {},
   "outputs": [],
   "source": [
    "def dt_to_index(smallest_dt, max_t):\n",
    "    return max_t/smallest_dt\n",
    "\n",
    "# with open('comp=H_sys=H_2_n=1_dist=0.5_scale=2.356194490192345_shift=0_overlap=0.75_Dt=0.05_maxitr=10000_shots=100.pkl', \"rb\") as file:\n",
    "#     s_k = pickle.load(file)\n",
    "\n",
    "# lambda_priors = [-3*np.pi/4*0.75]\n",
    "# eigenenergies[0] = -3*np.pi/4"
   ]
  },
  {
   "cell_type": "code",
   "execution_count": 114,
   "metadata": {},
   "outputs": [],
   "source": [
    "# Z_ests = []\n",
    "\n",
    "# for p in range(len(p0_array)):\n",
    "#     delta = deltas[p]\n",
    "#     Z_ests.append([])\n",
    "#     for trial in range(trials):\n",
    "#         print('trial', trial + 1)\n",
    "#         epsilon = epsilons[trial]\n",
    "#         Z_ests[p].append([])\n",
    "#         for iter in range(iterations[trial]):\n",
    "#             Z_ests[p][trial].append([])\n",
    "#             print('  iter', iter)\n",
    "#             tau = get_tau(iter, time_steps, epsilon, delta)\n",
    "#             ts = tau*np.arange(time_steps)\n",
    "#             print('    tau', tau)\n",
    "#             for t in range(len(ts)):\n",
    "#                 index = int(dt_to_index(0.05, ts[t]))\n",
    "#                 print('      t = ', ts[t], '  index: ', index)\n",
    "#                 Z_ests[p][trial][iter].append(s_k[index])"
   ]
  },
  {
   "cell_type": "code",
   "execution_count": 115,
   "metadata": {},
   "outputs": [],
   "source": [
    "# print(times[-80:])"
   ]
  },
  {
   "cell_type": "code",
   "execution_count": 116,
   "metadata": {},
   "outputs": [],
   "source": [
    "# for iter in range(iterations[-1] + 1):\n",
    "    # data = Z_ests[0][0][-1][iter]\n",
    "    # ft_data = fft.fftshift(fft.fft(data))\n",
    "    # plt.plot(abs(ft_data))\n",
    "    # mask = abs(ft_data) < .75\n",
    "    # ft_data[mask] = 0\n",
    "\n",
    "    # plt.plot(abs(np.array(data)))\n",
    "    # Z_ests[p][test][trial][iter] = fft.ifft(fft.ifftshift(ft_data))\n",
    "    # plt.plot(abs(fft.ifft(fft.ifftshift(ft_data))))\n",
    "    # plt.plot(np.array(ft_data))\n",
    "    # plt.show()"
   ]
  },
  {
   "cell_type": "code",
   "execution_count": 117,
   "metadata": {},
   "outputs": [],
   "source": [
    "# for p in range(len(p0_array)):\n",
    "#     for test in range(tests):\n",
    "#         for trial in range(trials):\n",
    "#             for iter in range(iterations[trial] + 1):\n",
    "#                 data = Z_ests[p][test][trial][iter]\n",
    "#                 ft_data = fft.fftshift(fft.fft(data))\n",
    "#                 mask = abs(ft_data) < max(ft_data)\n",
    "#                 print(mask)\n",
    "#                 ft_data[mask] = 0\n",
    "\n",
    "#                 # plt.plot(data)\n",
    "#                 Z_ests[p][test][trial][iter] = fft.ifft(fft.ifftshift(ft_data))\n",
    "#                 # plt.plot(fft.ifft(fft.ifftshift(ft_data)))\n",
    "#                 # plt.plot(np.array(ft_data))\n",
    "#                 # plt.show()"
   ]
  },
  {
   "cell_type": "code",
   "execution_count": 118,
   "metadata": {},
   "outputs": [],
   "source": [
    "# lambda_priors = [-3*np.pi/4, -3*np.pi/4]"
   ]
  },
  {
   "cell_type": "code",
   "execution_count": 119,
   "metadata": {
    "scrolled": true
   },
   "outputs": [
    {
     "name": "stdout",
     "output_type": "stream",
     "text": [
      "Testing p0 = 0.8 (1/1)\n",
      "  Generating QCELS data (p0=0.8) (1/1)\n",
      "    Running QCELS (1/5)\n",
      "      Preprocessing\n",
      "      Starting Iteration (1/1)\n",
      "      Finished Iterations\n",
      "    Running QCELS (2/5)\n",
      "      Preprocessing\n",
      "      Starting Iteration (1/3)\n",
      "      Starting Iteration (2/3)\n",
      "      Starting Iteration (3/3)\n",
      "      Finished Iterations\n",
      "    Running QCELS (3/5)\n",
      "      Preprocessing\n",
      "      Starting Iteration (1/5)\n",
      "      Starting Iteration (2/5)\n",
      "      Starting Iteration (3/5)\n",
      "      Starting Iteration (4/5)\n",
      "      Starting Iteration (5/5)\n",
      "      Finished Iterations\n",
      "    Running QCELS (4/5)\n",
      "      Preprocessing\n",
      "      Starting Iteration (1/6)\n",
      "      Starting Iteration (2/6)\n",
      "      Starting Iteration (3/6)\n",
      "      Starting Iteration (4/6)\n",
      "      Starting Iteration (5/6)\n",
      "      Starting Iteration (6/6)\n",
      "      Finished Iterations\n",
      "    Running QCELS (5/5)\n",
      "      Preprocessing\n",
      "      Starting Iteration (1/8)\n",
      "      Starting Iteration (2/8)\n",
      "      Starting Iteration (3/8)\n",
      "      Starting Iteration (4/8)\n",
      "      Starting Iteration (5/8)\n",
      "      Starting Iteration (6/8)\n",
      "      Starting Iteration (7/8)\n",
      "      Starting Iteration (8/8)\n",
      "      Finished Iterations\n",
      "    Finished QCELS data\n",
      "\n"
     ]
    }
   ],
   "source": [
    "err_QCELS           = np.zeros((len(p0_array),trials))\n",
    "est_QCELS           = np.zeros((len(p0_array),trials))\n",
    "cost_list_avg_QCELS = np.zeros((len(p0_array),trials))\n",
    "rate_success_QCELS  = np.zeros((len(p0_array),trials))\n",
    "max_T_QCELS         = np.zeros((len(p0_array),trials))\n",
    "\n",
    "if output_file:\n",
    "    outfile = open(\"Output/\"+str(data_name)+\"_\"+str(mn)+\"_run.txt\", 'w')\n",
    "\n",
    "for p in range(len(p0_array)):\n",
    "    p0=p0_array[p]\n",
    "    lambda_prior = lambda_priors[p]\n",
    "    delta = deltas[p]\n",
    "    \n",
    "    n_success_QCELS= np.zeros(trials)\n",
    "\n",
    "    print(\"Testing p0 =\", p0,\"(\"+str(p+1)+\"/\"+str(len(p0_array))+\")\")\n",
    "\n",
    "    if output_file: print(\"Testing p0 =\", p0,\"(\"+str(p+1)+\"/\"+str(len(p0_array))+\")\", file = outfile)\n",
    "\n",
    "    for test in range(tests):\n",
    "\n",
    "        print(\"  Generating QCELS data\", \"(p0=\"+str(p0)+\")\",\"(\"+str(test+1)+\"/\"+str(tests)+\")\")\n",
    "        #------------------QCELS-----------------\n",
    "        for trial in range(trials):\n",
    "            print(\"    Running QCELS\", \"(\"+str(trial+1)+\"/\"+str(trials)+\")\")\n",
    "\n",
    "            if output_file: print(\"    Running QCELS\", \"(\"+str(trial+1)+\"/\"+str(trials)+\")\", file = outfile, flush = True)\n",
    "            epsilon = epsilons[trial]\n",
    "            ground_energy_estimate_QCELS, cosT_depth_list_this = qcels_largeoverlap(Z_ests[p][test][trial], time_steps, lambda_prior, epsilon, delta) # add [test] index\n",
    "            est_this_run_QCELS = ground_energy_estimate_QCELS.x[2] \n",
    "\n",
    "            if output_file: print(\"      Estimated ground state energy =\", est_this_run_QCELS, file = outfile)\n",
    "            \n",
    "            err_this_run_QCELS = np.abs(est_this_run_QCELS - eigenenergies[0])\n",
    "            err_QCELS[p,trial] = err_QCELS[p,trial] + np.abs(err_this_run_QCELS)\n",
    "            est_QCELS[p,trial] = est_QCELS[p,trial] + est_this_run_QCELS\n",
    "            cost_list_avg_QCELS[p,trial] = cost_list_avg_QCELS[p,trial] + cosT_depth_list_this\n",
    "\n",
    "            if np.abs(err_this_run_QCELS)<err_threshold:\n",
    "                n_success_QCELS[trial]+=1\n",
    "\n",
    "        print(\"    Finished QCELS data\\n\")\n",
    "        if output_file: print(\"    Finished QCELS data\\n\", file = outfile)\n",
    "\n",
    "    rate_success_QCELS[p,:] = n_success_QCELS[:]/tests\n",
    "    err_QCELS[p,:] = err_QCELS[p,:]/tests\n",
    "    est_QCELS[p,:] = est_QCELS[p,:]/tests\n",
    "    #cost_list_avg_QCELS[p,:]=cost_list_avg_QCELS[p,:]/tests\n",
    "    cost_list_avg_QCELS[p,:]=2*cost_list_avg_QCELS[p,:]/tests # total shots instead of time steps (dont multiply by T0 for observables)\n",
    "\n"
   ]
  },
  {
   "cell_type": "code",
   "execution_count": 120,
   "metadata": {},
   "outputs": [
    {
     "name": "stdout",
     "output_type": "stream",
     "text": [
      "Saved data to files starting with Q_Sim\n",
      "Saved output to file  Output/Q_Sim.txt\n"
     ]
    }
   ],
   "source": [
    "if model_type[0].upper() == 'T':\n",
    "    np.savez('Data/'+data_name+'_result_TFIM_'+str(num_sites)+'sites_M_QCELS_large',name1=rate_success_QCELS,name2=cost_list_avg_QCELS,name3=err_QCELS,name4=est_QCELS,name5=eigenenergies[0],name6=p0_array)\n",
    "if model_type[0].upper() == 'H':\n",
    "    np.savez('Data/'+data_name+'_result_HSM_'+str(num_sites)+'sites_M_QCELS_large',name1=rate_success_QCELS,name2=cost_list_avg_QCELS,name3=err_QCELS,name4=est_QCELS,name5=eigenenergies[0],name6=p0_array)\n",
    "if model_type[0].upper() == 'B':\n",
    "    np.savez('Data/'+data_name+'_result_HUBB_'+str(num_sites)+'sites_M_QCELS_large',name1=rate_success_QCELS,name2=cost_list_avg_QCELS,name3=err_QCELS,name4=est_QCELS,name5=eigenenergies[0],name6=p0_array)\n",
    "if model_type[0].upper() == 'M':\n",
    "    np.savez('Data/'+data_name+'_result_HH_'+str(num_sites)+'sites_M_QCELS_large',name1=rate_success_QCELS,name2=cost_list_avg_QCELS,name3=err_QCELS,name4=est_QCELS,name5=eigenenergies[0],name6=p0_array)\n",
    "\n",
    "print(\"Saved data to files starting with\", data_name)\n",
    "if output_file: print(\"Saved data to files starting with\", data_name, file = outfile, flush=True)\n",
    "outfile.close()\n",
    "if output_file: print(\"Saved output to file \", \"Output/\"+str(data_name)+\".txt\")\n"
   ]
  },
  {
   "cell_type": "code",
   "execution_count": null,
   "metadata": {},
   "outputs": [],
   "source": []
  }
 ],
 "metadata": {
  "kernelspec": {
   "display_name": "QCELS-env",
   "language": "python",
   "name": "python3"
  },
  "language_info": {
   "codemirror_mode": {
    "name": "ipython",
    "version": 3
   },
   "file_extension": ".py",
   "mimetype": "text/x-python",
   "name": "python",
   "nbconvert_exporter": "python",
   "pygments_lexer": "ipython3",
   "version": "3.11.11"
  }
 },
 "nbformat": 4,
 "nbformat_minor": 4
}
